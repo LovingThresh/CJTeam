{
 "cells": [
  {
   "cell_type": "markdown",
   "source": [
    "### 欢迎来到CJ Team的代码库\n",
    "#### 1、我们希望构建适用于传统工科学生的深度学习教程\n",
    "#### 2、我们希望借此机会提升自身Code能力\n",
    "#### 3、我们希望能将自己的成果分享给大家"
   ],
   "metadata": {
    "collapsed": false,
    "pycharm": {
     "name": "#%% md\n"
    }
   }
  },
  {
   "cell_type": "markdown",
   "source": [
    "### 目录\n",
    "#### Part 1 Data_Loader\n",
    "#### Part 2 Define_Module\n",
    "#### Part 3 Callback Function\n"
   ],
   "metadata": {
    "collapsed": false,
    "pycharm": {
     "name": "#%% md\n"
    }
   }
  },
  {
   "cell_type": "code",
   "execution_count": null,
   "outputs": [],
   "source": [],
   "metadata": {
    "collapsed": false,
    "pycharm": {
     "name": "#%%\n"
    }
   }
  }
 ],
 "metadata": {
  "kernelspec": {
   "display_name": "Python 3",
   "language": "python",
   "name": "python3"
  },
  "language_info": {
   "codemirror_mode": {
    "name": "ipython",
    "version": 2
   },
   "file_extension": ".py",
   "mimetype": "text/x-python",
   "name": "python",
   "nbconvert_exporter": "python",
   "pygments_lexer": "ipython2",
   "version": "2.7.6"
  }
 },
 "nbformat": 4,
 "nbformat_minor": 0
}