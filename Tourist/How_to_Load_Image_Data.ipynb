{
 "cells": [
  {
   "cell_type": "markdown",
   "source": [
    "# Data_Loader\n",
    "## 我们将使用 TensorFlow 2 构建数据导入Pipeline\n",
    "#### 1、分类任务\n",
    "#### 2、分割任务\n",
    "#### 3、随机匹配"
   ],
   "metadata": {
    "collapsed": false
   }
  },
  {
   "cell_type": "markdown",
   "source": [
    "### 分类任务\n",
    "1、 文件夹的目录形式如下\n",
    "\n",
    "Father_Dir\n",
    "- Apple\n",
    "    - 1.jpg\n",
    "    - 2.jpg\n",
    "- Origin\n",
    "    - 1.jpg\n",
    "    - 2.jpg"
   ],
   "metadata": {
    "collapsed": false,
    "pycharm": {
     "name": "#%% md\n"
    }
   }
  },
  {
   "cell_type": "code",
   "execution_count": 95,
   "outputs": [
    {
     "name": "stdout",
     "output_type": "stream",
     "text": [
      "<TensorSliceDataset element_spec=TensorSpec(shape=(), dtype=tf.string, name=None)>\n",
      "(正确)将shuffle设置为False，遍历迭代器：\n",
      "b'C:\\\\Users\\\\liuye\\\\Desktop\\\\Father_Dir\\\\Apple\\\\1.jpg'\n",
      "b'C:\\\\Users\\\\liuye\\\\Desktop\\\\Father_Dir\\\\Apple\\\\2.jpg'\n",
      "b'C:\\\\Users\\\\liuye\\\\Desktop\\\\Father_Dir\\\\Orange\\\\1.jpg'\n",
      "b'C:\\\\Users\\\\liuye\\\\Desktop\\\\Father_Dir\\\\Orange\\\\2.jpg'\n",
      "(错误)将shuffle设置为False，遍历迭代器：\n",
      "b'C:\\\\Users\\\\liuye\\\\Desktop\\\\Father_Dir\\\\Apple\\\\1.jpg'\n",
      "b'C:\\\\Users\\\\liuye\\\\Desktop\\\\Father_Dir\\\\Apple\\\\1.jpg'\n",
      "b'C:\\\\Users\\\\liuye\\\\Desktop\\\\Father_Dir\\\\Apple\\\\1.jpg'\n",
      "b'C:\\\\Users\\\\liuye\\\\Desktop\\\\Father_Dir\\\\Apple\\\\1.jpg'\n"
     ]
    }
   ],
   "source": [
    "import tensorflow as tf\n",
    "import numpy as np\n",
    "Father_Dir = r'C:\\Users\\liuye\\Desktop\\Father_Dir/'\n",
    "# shuffle 默认为Ture\n",
    "files_path_Dataset = tf.data.Dataset.list_files(Father_Dir + r'*/*.jpg', shuffle=False)\n",
    "print(files_path_Dataset)\n",
    "print('(正确)将shuffle设置为False，遍历迭代器：')\n",
    "for i in files_path_Dataset.as_numpy_iterator():\n",
    "    print(i)\n",
    "print('(错误)将shuffle设置为False，遍历迭代器：')\n",
    "for i in range(4):\n",
    "    print(files_path_Dataset.as_numpy_iterator().next())"
   ],
   "metadata": {
    "collapsed": false,
    "pycharm": {
     "name": "#%%\n"
    }
   }
  },
  {
   "cell_type": "markdown",
   "source": [
    "现在我们能够得到不断输出jpg图像的路径的迭代器files_path\n",
    "\n",
    "接下来我们可以编写load_function函数从文件名导入图像文件,transform函数预处理图像"
   ],
   "metadata": {
    "collapsed": false,
    "pycharm": {
     "name": "#%% md\n"
    }
   }
  },
  {
   "cell_type": "code",
   "execution_count": 96,
   "outputs": [],
   "source": [
    "# 先构建image与label的配对\n",
    "image_label_Dict = {\"Apple\": 0, \"Orange\": 1}\n",
    "\n",
    "def transform(image):\n",
    "    image = image / 255\n",
    "    return image\n",
    "\n",
    "def load_function(img_path, target_size=(32, 32), Transform=None, Dict=None):\n",
    "    # 从路径导入图像，这一步可以使用opncv, tensorflow, PIL等库，可以根据自己要进行的图像处理库进行选择\n",
    "    if Transform is None:\n",
    "        Transform = transform\n",
    "    if Dict is None:\n",
    "        Dict = image_label_Dict\n",
    "    image = tf.io.read_file(img_path)\n",
    "    image = tf.image.decode_jpeg(image)\n",
    "    if target_size != (0, 0):\n",
    "        image = tf.image.resize(image, target_size)\n",
    "    if Transform:\n",
    "        image = Transform(image)\n",
    "    # 如果是有监督，对应的image还需要Label\n",
    "    # 在此案例中，Image分为了Apple与Orange,所以我们可以构建一个字典来进行标注\n",
    "    label = tf.constant(2, dtype=tf.int8)\n",
    "    if Dict:\n",
    "        for key in Dict.keys():\n",
    "            if tf.strings.regex_full_match(img_path, \".*{}.*\".format(key)):\n",
    "                label = tf.constant(Dict.get(key), dtype=tf.int8)\n",
    "\n",
    "    return image, label"
   ],
   "metadata": {
    "collapsed": false,
    "pycharm": {
     "name": "#%%\n"
    }
   }
  },
  {
   "cell_type": "code",
   "execution_count": 97,
   "outputs": [
    {
     "name": "stdout",
     "output_type": "stream",
     "text": [
      "(32, 32, 3)\n",
      "0\n",
      "(32, 32, 3)\n",
      "0\n",
      "(32, 32, 3)\n",
      "1\n",
      "(32, 32, 3)\n",
      "1\n"
     ]
    }
   ],
   "source": [
    "data_train = files_path_Dataset.map(load_function)\n",
    "for i, (images, labels) in enumerate(data_train.take(4)):\n",
    "    print(images.shape)\n",
    "    print(labels.numpy())"
   ],
   "metadata": {
    "collapsed": false,
    "pycharm": {
     "name": "#%%\n"
    }
   }
  },
  {
   "cell_type": "markdown",
   "source": [
    "### 分割任务\n",
    "1、 文件夹的目录形式如下\n",
    "\n",
    "Father_Dir\n",
    "\n",
    "- Image\n",
    "    - 1.jpg\n",
    "    - 2.jpg\n",
    "- Segmentation\n",
    "    - 1.png\n",
    "    - 2.png\n",
    "\n",
    "此时1.jpg对应1.png，2.jpg对应2.png\n",
    "此时就不能使用`tf.data.Dataset.list_files`，因为一方面Image与Label是分离的，另一方面，Image与Label不是无序的，是存在相互对应的关系，\n",
    "所以此时应该采取另外一种方式，即借助txt文件，txt的一行有两个参数分别对应Image与Label，中间用 `,` 隔开，到时候直接对txt文件进行处理就能构建好\n",
    "pipeline。\n",
    "\n",
    "**但是在示例中，Segmentation的文件格式jpg**"
   ],
   "metadata": {
    "collapsed": false
   }
  },
  {
   "cell_type": "code",
   "execution_count": 98,
   "outputs": [
    {
     "name": "stdout",
     "output_type": "stream",
     "text": [
      "[b'CFD_001.jpg' b'CFD_001.jpg']\n"
     ]
    }
   ],
   "source": [
    "file_txt = r'L:\\ALASegmentationNets_v2\\Data\\Stage_4\\train.txt'\n",
    "train_img_file = r'L:\\ALASegmentationNets_v2\\Data\\Stage_4\\train\\img/'\n",
    "train_label_file = r'L:\\ALASegmentationNets_v2\\Data\\Stage_4\\train\\mask/'\n",
    "files_txt = np.loadtxt(file_txt, delimiter=',', dtype=bytes, encoding='utf-8')\n",
    "path_ds = tf.data.Dataset.from_tensor_slices(files_txt)\n",
    "\n",
    "print(path_ds.as_numpy_iterator().next())"
   ],
   "metadata": {
    "collapsed": false,
    "pycharm": {
     "name": "#%%\n"
    }
   }
  },
  {
   "cell_type": "code",
   "execution_count": 99,
   "outputs": [],
   "source": [
    "# 此时需要对load_function进行重写才能满足条件\n",
    "# 对Transform要认真构造\n",
    "\n",
    "transform_image = transform\n",
    "transform_label = transform\n",
    "\n",
    "def load_function(img_label_path, target_size=(448, 448),\n",
    "                  Transform_image = transform_image,\n",
    "                  Transform_Label = transform_label\n",
    "                  ):\n",
    "    # 从路径导入图像，这一步可以使用opncv, tensorflow, PIL等库，可以根据自己要进行的图像处理库进行选择\n",
    "    # 注意图像文件格式！\n",
    "    img_path, label_path = img_label_path[0], img_label_path[1]\n",
    "\n",
    "    image = tf.io.read_file(train_img_file + img_path)\n",
    "    image = tf.image.decode_jpeg(image)\n",
    "\n",
    "    label = tf.io.read_file(train_label_file + label_path)\n",
    "    label = tf.image.decode_jpeg(label)\n",
    "\n",
    "    if target_size != (0, 0):\n",
    "        image = tf.image.resize(image, target_size)\n",
    "    if Transform_image:\n",
    "        image = Transform_image(image)\n",
    "    if Transform_Label:\n",
    "        label = Transform_Label(label)\n",
    "\n",
    "    return image, label"
   ],
   "metadata": {
    "collapsed": false,
    "pycharm": {
     "name": "#%%\n"
    }
   }
  },
  {
   "cell_type": "code",
   "execution_count": 100,
   "outputs": [
    {
     "name": "stdout",
     "output_type": "stream",
     "text": [
      "(448, 448, 3)\n",
      "(448, 448, 1)\n",
      "(448, 448, 3)\n",
      "(448, 448, 1)\n",
      "(448, 448, 3)\n",
      "(448, 448, 1)\n",
      "(448, 448, 3)\n",
      "(448, 448, 1)\n"
     ]
    }
   ],
   "source": [
    "data_train = path_ds.map(load_function)\n",
    "for i, (images, labels) in enumerate(data_train.take(4)):\n",
    "    print(images.shape)\n",
    "    print(labels.shape)"
   ],
   "metadata": {
    "collapsed": false,
    "pycharm": {
     "name": "#%%\n"
    }
   }
  },
  {
   "cell_type": "markdown",
   "source": [],
   "metadata": {
    "collapsed": false
   }
  },
  {
   "cell_type": "markdown",
   "source": [
    "### Cycle_GAN 非对称数据集\n",
    "3、 文件夹的目录形式如下\n",
    "\n",
    "Father_Dir\n",
    "- Apple\n",
    "    - 1.jpg\n",
    "    - 2.jpg\n",
    "- Origin\n",
    "    - 1.jpg\n",
    "    - 2.jpg\n",
    "\n",
    "假如我们想训练一个神经网络能够把苹果变成橘子，也能把橘子变成苹果，此时虽然说Apple与Orange是对应的，但是在各子类中图像是可以无序的，\n",
    "此时应该如何构建Pipeline呢？\n",
    "\n",
    "其实非常简单，把Apple看成Image， Origin看出Label，将内部状态设定为无序就可以"
   ],
   "metadata": {
    "collapsed": false
   }
  },
  {
   "cell_type": "code",
   "execution_count": 101,
   "outputs": [
    {
     "name": "stdout",
     "output_type": "stream",
     "text": [
      "(<tf.Tensor: shape=(), dtype=string, numpy=b'C:\\\\Users\\\\liuye\\\\Desktop\\\\Father_Dir\\\\Apple\\\\1.jpg'>, <tf.Tensor: shape=(), dtype=string, numpy=b'C:\\\\Users\\\\liuye\\\\Desktop\\\\Father_Dir\\\\Orange\\\\2.jpg'>)\n",
      "(<tf.Tensor: shape=(), dtype=string, numpy=b'C:\\\\Users\\\\liuye\\\\Desktop\\\\Father_Dir\\\\Apple\\\\2.jpg'>, <tf.Tensor: shape=(), dtype=string, numpy=b'C:\\\\Users\\\\liuye\\\\Desktop\\\\Father_Dir\\\\Orange\\\\1.jpg'>)\n",
      "(<tf.Tensor: shape=(), dtype=string, numpy=b'C:\\\\Users\\\\liuye\\\\Desktop\\\\Father_Dir\\\\Apple\\\\1.jpg'>, <tf.Tensor: shape=(), dtype=string, numpy=b'C:\\\\Users\\\\liuye\\\\Desktop\\\\Father_Dir\\\\Orange\\\\1.jpg'>)\n",
      "(<tf.Tensor: shape=(), dtype=string, numpy=b'C:\\\\Users\\\\liuye\\\\Desktop\\\\Father_Dir\\\\Apple\\\\2.jpg'>, <tf.Tensor: shape=(), dtype=string, numpy=b'C:\\\\Users\\\\liuye\\\\Desktop\\\\Father_Dir\\\\Orange\\\\2.jpg'>)\n",
      "(<tf.Tensor: shape=(), dtype=string, numpy=b'C:\\\\Users\\\\liuye\\\\Desktop\\\\Father_Dir\\\\Apple\\\\2.jpg'>, <tf.Tensor: shape=(), dtype=string, numpy=b'C:\\\\Users\\\\liuye\\\\Desktop\\\\Father_Dir\\\\Orange\\\\1.jpg'>)\n",
      "(<tf.Tensor: shape=(), dtype=string, numpy=b'C:\\\\Users\\\\liuye\\\\Desktop\\\\Father_Dir\\\\Apple\\\\1.jpg'>, <tf.Tensor: shape=(), dtype=string, numpy=b'C:\\\\Users\\\\liuye\\\\Desktop\\\\Father_Dir\\\\Orange\\\\2.jpg'>)\n"
     ]
    }
   ],
   "source": [
    "Father_Dir = r'C:\\Users\\liuye\\Desktop\\Father_Dir/'\n",
    "# shuffle 默认为Ture\n",
    "# 所以每次运行，其对应的文件都不一样，但类是相对应的\n",
    "Apple_files_path_Dataset = tf.data.Dataset.list_files(Father_Dir + r'Apple/*.jpg', shuffle=True)\n",
    "Orange_files_path_Dataset = tf.data.Dataset.list_files(Father_Dir + r'Orange/*.jpg', shuffle=True)\n",
    "for i in range(3):\n",
    "    for j in tf.data.Dataset.zip((Apple_files_path_Dataset, Orange_files_path_Dataset)):\n",
    "        print(j)"
   ],
   "metadata": {
    "collapsed": false,
    "pycharm": {
     "name": "#%%\n"
    }
   }
  },
  {
   "cell_type": "markdown",
   "source": [
    "此时我们设置好相应transform函数就能完成图像的载入了\n",
    "请注意与第二部分的load_function的差别"
   ],
   "metadata": {
    "collapsed": false
   }
  },
  {
   "cell_type": "code",
   "execution_count": 102,
   "outputs": [],
   "source": [
    "def load_function(img_path, target_size=(448, 448),\n",
    "                  Transform_image = transform_image,\n",
    "                  ):\n",
    "    # 从路径导入图像，这一步可以使用opncv, tensorflow, PIL等库，可以根据自己要进行的图像处理库进行选择\n",
    "    # 注意图像文件格式！\n",
    "\n",
    "    image = tf.io.read_file(img_path)\n",
    "    image = tf.image.decode_jpeg(image)\n",
    "\n",
    "    if target_size != (0, 0):\n",
    "        image = tf.image.resize(image, target_size)\n",
    "    if Transform_image:\n",
    "        image = Transform_image(image)\n",
    "\n",
    "    return image"
   ],
   "metadata": {
    "collapsed": false,
    "pycharm": {
     "name": "#%%\n"
    }
   }
  },
  {
   "cell_type": "code",
   "execution_count": 104,
   "outputs": [
    {
     "name": "stdout",
     "output_type": "stream",
     "text": [
      "(448, 448, 3)\n",
      "(448, 448, 3)\n",
      "(448, 448, 3)\n",
      "(448, 448, 3)\n"
     ]
    }
   ],
   "source": [
    "# 注意这使用transform函数直接就是第二类的load_function\n",
    "# 我们来看看效果把\n",
    "\n",
    "data_train_Apple = Apple_files_path_Dataset.map(load_function)\n",
    "data_train_Orange = Orange_files_path_Dataset.map(load_function)\n",
    "data_train = tf.data.Dataset.zip((data_train_Apple, data_train_Orange))\n",
    "for i, (apple, orange) in enumerate(data_train.take(4)):\n",
    "    print(apple.shape)\n",
    "    print(orange.shape)"
   ],
   "metadata": {
    "collapsed": false,
    "pycharm": {
     "name": "#%%\n"
    }
   }
  }
 ],
 "metadata": {
  "kernelspec": {
   "name": "tensorflow",
   "language": "python",
   "display_name": "tensorflow"
  },
  "language_info": {
   "codemirror_mode": {
    "name": "ipython",
    "version": 2
   },
   "file_extension": ".py",
   "mimetype": "text/x-python",
   "name": "python",
   "nbconvert_exporter": "python",
   "pygments_lexer": "ipython2",
   "version": "2.7.6"
  }
 },
 "nbformat": 4,
 "nbformat_minor": 0
}